{
 "cells": [
  {
   "cell_type": "code",
   "execution_count": 1,
   "id": "vertical-problem",
   "metadata": {},
   "outputs": [],
   "source": [
    "#!pip3 install matplotlib"
   ]
  },
  {
   "cell_type": "code",
   "execution_count": 2,
   "id": "strategic-andrews",
   "metadata": {},
   "outputs": [],
   "source": [
    "import csv \n",
    "import pandas as pd\n",
    "import matplotlib.pyplot as plt"
   ]
  },
  {
   "cell_type": "code",
   "execution_count": 6,
   "id": "accompanied-choice",
   "metadata": {},
   "outputs": [],
   "source": [
    "df = pd.read_csv(\"games.csv\")\n"
   ]
  },
  {
   "cell_type": "code",
   "execution_count": 63,
   "id": "together-cattle",
   "metadata": {},
   "outputs": [
    {
     "output_type": "execute_result",
     "data": {
      "text/plain": [
       "(20058, 17)"
      ]
     },
     "metadata": {},
     "execution_count": 63
    }
   ],
   "source": [
    "df.shape"
   ]
  },
  {
   "cell_type": "code",
   "execution_count": 75,
   "metadata": {},
   "outputs": [
    {
     "output_type": "execute_result",
     "data": {
      "text/plain": [
       "<bound method NDFrame.describe of              id  rated    created_at  last_move_at  turns victory_status  \\\n",
       "0      TZJHLljE  False  1.504210e+12  1.504210e+12     13      outoftime   \n",
       "1      l1NXvwaE   True  1.504130e+12  1.504130e+12     16         resign   \n",
       "2      mIICvQHh   True  1.504130e+12  1.504130e+12     61           mate   \n",
       "3      kWKvrqYL   True  1.504110e+12  1.504110e+12     61           mate   \n",
       "4      9tXo1AUZ   True  1.504030e+12  1.504030e+12     95           mate   \n",
       "...         ...    ...           ...           ...    ...            ...   \n",
       "20053  EfqH7VVH   True  1.499791e+12  1.499791e+12     24         resign   \n",
       "20054  WSJDhbPl   True  1.499698e+12  1.499699e+12     82           mate   \n",
       "20055  yrAas0Kj   True  1.499698e+12  1.499698e+12     35           mate   \n",
       "20056  b0v4tRyF   True  1.499696e+12  1.499697e+12    109         resign   \n",
       "20057  N8G2JHGG   True  1.499643e+12  1.499644e+12     78           mate   \n",
       "\n",
       "      winner increment_code       white_id  white_rating            black_id  \\\n",
       "0      white           15+2       bourgris          1500                a-00   \n",
       "1      black           5+10           a-00          1322           skinnerua   \n",
       "2      white           5+10         ischia          1496                a-00   \n",
       "3      white           20+0  daniamurashov          1439        adivanov2009   \n",
       "4      white           30+3      nik221107          1523        adivanov2009   \n",
       "...      ...            ...            ...           ...                 ...   \n",
       "20053  white          10+10        belcolt          1691            jamboger   \n",
       "20054  black           10+0       jamboger          1233  farrukhasomiddinov   \n",
       "20055  white           10+0       jamboger          1219        schaaksmurf3   \n",
       "20056  white           10+0   marcodisogno          1360            jamboger   \n",
       "20057  black           10+0       jamboger          1235               ffbob   \n",
       "\n",
       "       black_rating                                              moves  \\\n",
       "0              1191  d4 d5 c4 c6 cxd5 e6 dxe6 fxe6 Nf3 Bb4+ Nc3 Ba5...   \n",
       "1              1261  d4 Nc6 e4 e5 f4 f6 dxe5 fxe5 fxe5 Nxe5 Qd4 Nc6...   \n",
       "2              1500  e4 e5 d3 d6 Be3 c6 Be2 b5 Nd2 a5 a4 c5 axb5 Nc...   \n",
       "3              1454  d4 d5 Nf3 Bf5 Nc3 Nf6 Bf4 Ng4 e3 Nc6 Be2 Qd7 O...   \n",
       "4              1469  e4 e5 Nf3 d6 d4 Nc6 d5 Nb4 a3 Na6 Nc3 Be7 b4 N...   \n",
       "...             ...                                                ...   \n",
       "20053          1220  d4 f5 e3 e6 Nf3 Nf6 Nc3 b6 Be2 Bb7 O-O Be7 Ne5...   \n",
       "20054          1196  d4 d6 Bf4 e5 Bg3 Nf6 e3 exd4 exd4 d5 c3 Bd6 Bd...   \n",
       "20055          1286  d4 d5 Bf4 Nc6 e3 Nf6 c3 e6 Nf3 Be7 Bd3 O-O Nbd...   \n",
       "20056          1227  e4 d6 d4 Nf6 e5 dxe5 dxe5 Qxd1+ Kxd1 Nd5 c4 Nb...   \n",
       "20057          1339  d4 d5 Bf4 Na6 e3 e6 c3 Nf6 Nf3 Bd7 Nbd2 b5 Bd3...   \n",
       "\n",
       "      opening_eco                            opening_name  opening_ply  \\\n",
       "0             D10        Slav Defense: Exchange Variation            5   \n",
       "1             B00  Nimzowitsch Defense: Kennedy Variation            4   \n",
       "2             C20   King's Pawn Game: Leonardis Variation            3   \n",
       "3             D02  Queen's Pawn Game: Zukertort Variation            3   \n",
       "4             C41                        Philidor Defense            5   \n",
       "...           ...                                     ...          ...   \n",
       "20053         A80                           Dutch Defense            2   \n",
       "20054         A41                            Queen's Pawn            2   \n",
       "20055         D00         Queen's Pawn Game: Mason Attack            3   \n",
       "20056         B07                            Pirc Defense            4   \n",
       "20057         D00         Queen's Pawn Game: Mason Attack            3   \n",
       "\n",
       "       simple_opening_name  \n",
       "0             Slav Defense  \n",
       "1      Nimzowitsch Defense  \n",
       "2         King's Pawn Game  \n",
       "3        Queen's Pawn Game  \n",
       "4         Philidor Defense  \n",
       "...                    ...  \n",
       "20053        Dutch Defense  \n",
       "20054         Queen's Pawn  \n",
       "20055    Queen's Pawn Game  \n",
       "20056         Pirc Defense  \n",
       "20057    Queen's Pawn Game  \n",
       "\n",
       "[20058 rows x 17 columns]>"
      ]
     },
     "metadata": {},
     "execution_count": 75
    }
   ],
   "source": [
    "df.describe"
   ]
  },
  {
   "cell_type": "code",
   "execution_count": 46,
   "metadata": {},
   "outputs": [
    {
     "output_type": "execute_result",
     "data": {
      "text/plain": [
       "Van't Kruijs Opening                                                     368\n",
       "Sicilian Defense                                                         358\n",
       "Sicilian Defense: Bowdler Attack                                         296\n",
       "Scotch Game                                                              271\n",
       "French Defense: Knight Variation                                         271\n",
       "                                                                        ... \n",
       "Zukertort Opening: Double Fianchetto Attack                                1\n",
       "Queen's Gambit Declined: Cambridge Springs Variation                       1\n",
       "Scandinavian Defense: Anderssen Counterattack |  Goteborg System           1\n",
       "Queen's Indian Defense: Fianchetto Variation |  Nimzowitsch Variation      1\n",
       "Russian Game: Modern Attack                                                1\n",
       "Name: opening_name, Length: 1477, dtype: int64"
      ]
     },
     "metadata": {},
     "execution_count": 46
    }
   ],
   "source": [
    "df.opening_name.value_counts()"
   ]
  },
  {
   "cell_type": "code",
   "execution_count": 47,
   "metadata": {},
   "outputs": [],
   "source": [
    "#get rid of variants for basic openings\n",
    "df[\"simple_opening_name\"] = df.opening_name.replace(r'(\\||:)\\s(.*)',\"\", regex=True )"
   ]
  },
  {
   "cell_type": "code",
   "execution_count": 61,
   "metadata": {},
   "outputs": [
    {
     "output_type": "execute_result",
     "data": {
      "text/plain": [
       "Sicilian Defense           2573\n",
       "French Defense             1306\n",
       "Queen's Pawn Game          1059\n",
       "Italian Game                981\n",
       "King's Pawn Game            917\n",
       "Ruy Lopez                   858\n",
       "English Opening             720\n",
       "Scandinavian Defense        716\n",
       "Caro-Kann Defense           593\n",
       "Scotch Game                 465\n",
       "Queen's Gambit Declined     394\n",
       "Four Knights Game           370\n",
       "Van't Kruijs Opening        368\n",
       "Zukertort Opening           336\n",
       "Bishop's Opening            323\n",
       "Indian Game                 319\n",
       "Philidor Defense            272\n",
       "Queen's Gambit Accepted     253\n",
       "Russian Game                252\n",
       "Queen's Gambit Refused      251\n",
       "Modern Defense              225\n",
       "Horwitz Defense             209\n",
       "Nimzowitsch Defense         200\n",
       "Philidor Defense #3         198\n",
       "King's Indian Defense       197\n",
       "Philidor Defense #2         193\n",
       "Alekhine Defense            188\n",
       "Slav Defense                187\n",
       "King's Knight Opening       183\n",
       "Hungarian Opening           179\n",
       "Name: simple_opening_name, dtype: int64"
      ]
     },
     "metadata": {},
     "execution_count": 61
    }
   ],
   "source": [
    "df.simple_opening_name.value_counts().head(30)"
   ]
  },
  {
   "cell_type": "code",
   "execution_count": 60,
   "metadata": {},
   "outputs": [
    {
     "output_type": "execute_result",
     "data": {
      "text/plain": [
       "                                   white_rating  black_rating\n",
       "simple_opening_name                                          \n",
       "Latvian Gambit Accepted             2250.000000   2218.250000\n",
       "Doery Defense                       2201.000000   2173.000000\n",
       "King's Indian                       2140.000000   2027.666667\n",
       "Benko Gambit Accepted               2129.875000   2111.375000\n",
       "Blumenfeld Countergambit Accepted   2124.750000   2122.000000\n",
       "Benko Gambit Declined               2070.666667   1984.333333\n",
       "Vienna Game #2                      2042.666667   2169.000000\n",
       "Bogo-Indian Defense                 1965.300000   1869.600000\n",
       "Pterodactyl Defense                 1962.000000   1889.000000\n",
       "Danish Gambit Declined              1956.000000   1818.500000"
      ],
      "text/html": "<div>\n<style scoped>\n    .dataframe tbody tr th:only-of-type {\n        vertical-align: middle;\n    }\n\n    .dataframe tbody tr th {\n        vertical-align: top;\n    }\n\n    .dataframe thead th {\n        text-align: right;\n    }\n</style>\n<table border=\"1\" class=\"dataframe\">\n  <thead>\n    <tr style=\"text-align: right;\">\n      <th></th>\n      <th>white_rating</th>\n      <th>black_rating</th>\n    </tr>\n    <tr>\n      <th>simple_opening_name</th>\n      <th></th>\n      <th></th>\n    </tr>\n  </thead>\n  <tbody>\n    <tr>\n      <th>Latvian Gambit Accepted</th>\n      <td>2250.000000</td>\n      <td>2218.250000</td>\n    </tr>\n    <tr>\n      <th>Doery Defense</th>\n      <td>2201.000000</td>\n      <td>2173.000000</td>\n    </tr>\n    <tr>\n      <th>King's Indian</th>\n      <td>2140.000000</td>\n      <td>2027.666667</td>\n    </tr>\n    <tr>\n      <th>Benko Gambit Accepted</th>\n      <td>2129.875000</td>\n      <td>2111.375000</td>\n    </tr>\n    <tr>\n      <th>Blumenfeld Countergambit Accepted</th>\n      <td>2124.750000</td>\n      <td>2122.000000</td>\n    </tr>\n    <tr>\n      <th>Benko Gambit Declined</th>\n      <td>2070.666667</td>\n      <td>1984.333333</td>\n    </tr>\n    <tr>\n      <th>Vienna Game #2</th>\n      <td>2042.666667</td>\n      <td>2169.000000</td>\n    </tr>\n    <tr>\n      <th>Bogo-Indian Defense</th>\n      <td>1965.300000</td>\n      <td>1869.600000</td>\n    </tr>\n    <tr>\n      <th>Pterodactyl Defense</th>\n      <td>1962.000000</td>\n      <td>1889.000000</td>\n    </tr>\n    <tr>\n      <th>Danish Gambit Declined</th>\n      <td>1956.000000</td>\n      <td>1818.500000</td>\n    </tr>\n  </tbody>\n</table>\n</div>"
     },
     "metadata": {},
     "execution_count": 60
    }
   ],
   "source": [
    "df.groupby([\"simple_opening_name\"]).mean()[[\"white_rating\",\"black_rating\"]].sort_values([\"white_rating\"],ascending=False).head(10)"
   ]
  },
  {
   "cell_type": "code",
   "execution_count": 71,
   "metadata": {},
   "outputs": [
    {
     "output_type": "execute_result",
     "data": {
      "text/plain": [
       "                      white_rating  black_rating\n",
       "simple_opening_name                             \n",
       "Reti Opening           2454.000000   1254.000000\n",
       "Carr Defense           2438.000000    946.000000\n",
       "Queen's Gambit         2156.000000   1220.000000\n",
       "Semi-Bononi            2135.000000   1151.000000\n",
       "Mexican Defense        2123.000000   1108.000000\n",
       "Philidor Defense       2097.000000   1017.000000\n",
       "Indian Game            2047.000000   1268.000000\n",
       "King's Pawn            2032.000000   1223.000000\n",
       "Borg Defense           2030.000000   1225.000000\n",
       "Scandinavian Defense   2024.571429   1106.285714"
      ],
      "text/html": "<div>\n<style scoped>\n    .dataframe tbody tr th:only-of-type {\n        vertical-align: middle;\n    }\n\n    .dataframe tbody tr th {\n        vertical-align: top;\n    }\n\n    .dataframe thead th {\n        text-align: right;\n    }\n</style>\n<table border=\"1\" class=\"dataframe\">\n  <thead>\n    <tr style=\"text-align: right;\">\n      <th></th>\n      <th>white_rating</th>\n      <th>black_rating</th>\n    </tr>\n    <tr>\n      <th>simple_opening_name</th>\n      <th></th>\n      <th></th>\n    </tr>\n  </thead>\n  <tbody>\n    <tr>\n      <th>Reti Opening</th>\n      <td>2454.000000</td>\n      <td>1254.000000</td>\n    </tr>\n    <tr>\n      <th>Carr Defense</th>\n      <td>2438.000000</td>\n      <td>946.000000</td>\n    </tr>\n    <tr>\n      <th>Queen's Gambit</th>\n      <td>2156.000000</td>\n      <td>1220.000000</td>\n    </tr>\n    <tr>\n      <th>Semi-Bononi</th>\n      <td>2135.000000</td>\n      <td>1151.000000</td>\n    </tr>\n    <tr>\n      <th>Mexican Defense</th>\n      <td>2123.000000</td>\n      <td>1108.000000</td>\n    </tr>\n    <tr>\n      <th>Philidor Defense</th>\n      <td>2097.000000</td>\n      <td>1017.000000</td>\n    </tr>\n    <tr>\n      <th>Indian Game</th>\n      <td>2047.000000</td>\n      <td>1268.000000</td>\n    </tr>\n    <tr>\n      <th>King's Pawn</th>\n      <td>2032.000000</td>\n      <td>1223.000000</td>\n    </tr>\n    <tr>\n      <th>Borg Defense</th>\n      <td>2030.000000</td>\n      <td>1225.000000</td>\n    </tr>\n    <tr>\n      <th>Scandinavian Defense</th>\n      <td>2024.571429</td>\n      <td>1106.285714</td>\n    </tr>\n  </tbody>\n</table>\n</div>"
     },
     "metadata": {},
     "execution_count": 71
    }
   ],
   "source": [
    "df[df[\"white_rating\"]>1700][df[\"black_rating\"]<1300].groupby([\"simple_opening_name\"]).mean()[[\"white_rating\",\"black_rating\"]].sort_values([\"white_rating\"],ascending=False).head(10)"
   ]
  },
  {
   "cell_type": "code",
   "execution_count": 72,
   "metadata": {},
   "outputs": [
    {
     "output_type": "execute_result",
     "data": {
      "text/plain": [
       "Sicilian Defense           1106\n",
       "French Defense              519\n",
       "Queen's Pawn Game           384\n",
       "Ruy Lopez                   338\n",
       "Italian Game                299\n",
       "English Opening             258\n",
       "Caro-Kann Defense           250\n",
       "Scandinavian Defense        209\n",
       "Queen's Gambit Declined     201\n",
       "Indian Game                 145\n",
       "Scotch Game                 140\n",
       "Zukertort Opening           138\n",
       "King's Indian Defense       132\n",
       "Nimzo-Indian Defense        104\n",
       "Queen's Gambit Refused      103\n",
       "Slav Defense                 92\n",
       "Queen's Gambit Accepted      91\n",
       "Modern Defense               85\n",
       "Dutch Defense                84\n",
       "King's Pawn Game             81\n",
       "Philidor Defense             80\n",
       "Four Knights Game            80\n",
       "Horwitz Defense              72\n",
       "Semi-Slav Defense            67\n",
       "Bishop's Opening             67\n",
       "King's Indian Attack         65\n",
       "Russian Game                 65\n",
       "King's Gambit Accepted       59\n",
       "Nimzo-Larsen Attack          58\n",
       "Owen Defense                 58\n",
       "Name: simple_opening_name, dtype: int64"
      ]
     },
     "metadata": {},
     "execution_count": 72
    }
   ],
   "source": [
    "df[df[\"white_rating\"]>1700].simple_opening_name.value_counts().head(30)"
   ]
  },
  {
   "cell_type": "code",
   "execution_count": 73,
   "metadata": {},
   "outputs": [
    {
     "output_type": "execute_result",
     "data": {
      "text/plain": [
       "Sicilian Defense           307\n",
       "French Defense             113\n",
       "Ruy Lopez                  111\n",
       "English Opening             93\n",
       "Queen's Pawn Game           85\n",
       "Caro-Kann Defense           81\n",
       "Italian Game                70\n",
       "Queen's Gambit Declined     62\n",
       "Scandinavian Defense        59\n",
       "King's Indian Defense       40\n",
       "Nimzo-Indian Defense        39\n",
       "Scotch Game                 36\n",
       "Indian Game                 35\n",
       "Modern Defense              32\n",
       "Zukertort Opening           29\n",
       "Queen's Gambit Refused      23\n",
       "Four Knights Game           22\n",
       "Slav Defense                18\n",
       "Russian Game                17\n",
       "Queen's Gambit Accepted     17\n",
       "Dutch Defense               17\n",
       "King's Indian Attack        17\n",
       "Philidor Defense            17\n",
       "Horwitz Defense             16\n",
       "Semi-Slav Defense           16\n",
       "Bird Opening                16\n",
       "Queen's Indian Defense      15\n",
       "Rat Defense                 14\n",
       "Pirc Defense                13\n",
       "Benoni Defense              13\n",
       "Name: simple_opening_name, dtype: int64"
      ]
     },
     "metadata": {},
     "execution_count": 73
    }
   ],
   "source": [
    "df[df[\"white_rating\"]>2000].simple_opening_name.value_counts().head(30)"
   ]
  },
  {
   "cell_type": "code",
   "execution_count": 78,
   "metadata": {},
   "outputs": [
    {
     "output_type": "execute_result",
     "data": {
      "text/plain": [
       "D02    60\n",
       "B01    59\n",
       "A40    47\n",
       "C00    43\n",
       "B00    40\n",
       "B20    32\n",
       "A45    31\n",
       "D00    30\n",
       "C45    30\n",
       "A00    30\n",
       "C41    29\n",
       "A04    28\n",
       "B06    27\n",
       "B07    27\n",
       "C50    25\n",
       "B12    21\n",
       "B21    21\n",
       "B30    21\n",
       "C55    21\n",
       "B13    19\n",
       "D30    18\n",
       "B90    18\n",
       "C44    17\n",
       "C60    17\n",
       "C65    16\n",
       "B23    16\n",
       "C42    16\n",
       "B50    16\n",
       "A46    16\n",
       "B40    15\n",
       "Name: opening_eco, dtype: int64"
      ]
     },
     "metadata": {},
     "execution_count": 78
    }
   ],
   "source": [
    "df[df[\"white_rating\"]>2000].opening_eco.value_counts().head(30)"
   ]
  },
  {
   "cell_type": "code",
   "execution_count": null,
   "metadata": {},
   "outputs": [],
   "source": [
    "\"\"\"\n",
    "A00-A39\t= FLANK OPENINGS (neither 1.d4 nor 1.e4) - includes English Opening\n",
    "A40-A44\t= QP OPENING without 1..d5 or 1..f5 or 1..Nf6 reply\n",
    "A45-A49\t= QP OPENING, INDIAN DEFENCE (1.d4 Nf6) without 2.c4\n",
    "A50-A79\t= QP OPENING, INDIAN DEFENCE with 2.c4 but without 2..e6 or 2..g6\n",
    "A80-A99\t= QP OPENING with 1..f5 reply (= Dutch Defence)\n",
    "B00-B19\t= KP OPENING without 1..c5, ..1.e6 or ..1.e5 - incl. Alekhine, Caro-Kann Defs.\n",
    "B20-B99\t= KP OPENING with 1..c5 reply (= Sicilian Defence)\n",
    "C00-C19\t= KP OPENING with 1..e6 reply (= French Defence)\n",
    "C20-C99\t= KP OPENING with 1..e5 reply (= Mutual King's Pawn, incl. Ruy Lopez)\n",
    "D00-D05\t= QP GAME (1.d4 d5) without 2.c4 (= Queen's Pawn Game)\n",
    "D06-D69\t= QP GAME (1.d4 d5) with 2.c4 (= Queen's Gambit)\n",
    "D70-D99\t= QP, INDIAN DEF. (1.d4 Nf6, 2.c4 g6) with early ..d5 (= Grunfeld Defence)\n",
    "E00-E59\t= QP, INDIAN DEF. (1.d4 Nf6) with 2.c4 e6 - includes Catalan Opening\n",
    "E60-E99\t= QP, INDIAN DEF. (1.d4 Nf6, 2.c4 g6) without early ..d5 (= King's Indian)\n",
    "\"\"\"\n"
   ]
  },
  {
   "cell_type": "code",
   "execution_count": 79,
   "metadata": {},
   "outputs": [
    {
     "output_type": "execute_result",
     "data": {
      "text/plain": [
       "A00    977\n",
       "C00    831\n",
       "D00    716\n",
       "B01    702\n",
       "C41    689\n",
       "C20    648\n",
       "B00    601\n",
       "A40    599\n",
       "B20    559\n",
       "C50    530\n",
       "C40    439\n",
       "D02    434\n",
       "C44    369\n",
       "C42    324\n",
       "C55    312\n",
       "B07    299\n",
       "C45    282\n",
       "A04    281\n",
       "C02    276\n",
       "C46    262\n",
       "A45    249\n",
       "B21    237\n",
       "B30    226\n",
       "B50    225\n",
       "D20    211\n",
       "B10    193\n",
       "B06    170\n",
       "C21    168\n",
       "B12    167\n",
       "D06    167\n",
       "Name: opening_eco, dtype: int64"
      ]
     },
     "metadata": {},
     "execution_count": 79
    }
   ],
   "source": [
    "df[df[\"white_rating\"]>1000].opening_eco.value_counts().head(30)"
   ]
  },
  {
   "cell_type": "code",
   "execution_count": 102,
   "metadata": {},
   "outputs": [],
   "source": [
    "#What is the avg ELO of KP vs QP vs Flank?\n",
    "\n",
    "\n",
    "df[\"first_move\"] = df.opening_eco.replace(r'(A0|A1|A2|A3)(.*)',\"Flank\", regex=True ).sort_values()\n",
    "df[\"first_move\"] = df[\"first_move\"].replace(r'(A4|A5|A6|A7|A8|A9|D|E)(.*)',\"QP\", regex=True ).sort_values()\n",
    "df[\"first_move\"] = df[\"first_move\"].replace(r'(B|C)(.*)',\"KP\", regex=True ).sort_values()"
   ]
  },
  {
   "cell_type": "code",
   "execution_count": 113,
   "metadata": {},
   "outputs": [
    {
     "output_type": "execute_result",
     "data": {
      "text/plain": [
       "KP       0.642935\n",
       "QP       0.231329\n",
       "Flank    0.125735\n",
       "Name: first_move, dtype: float64"
      ]
     },
     "metadata": {},
     "execution_count": 113
    }
   ],
   "source": [
    "df[\"first_move\"].value_counts(normalize=True)"
   ]
  },
  {
   "cell_type": "code",
   "execution_count": 114,
   "metadata": {},
   "outputs": [
    {
     "output_type": "execute_result",
     "data": {
      "text/plain": [
       "KP       0.628177\n",
       "QP       0.266117\n",
       "Flank    0.105706\n",
       "Name: first_move, dtype: float64"
      ]
     },
     "metadata": {},
     "execution_count": 114
    }
   ],
   "source": [
    "df[df[\"white_rating\"]>1500][\"first_move\"].value_counts(normalize=True)"
   ]
  },
  {
   "cell_type": "code",
   "execution_count": 115,
   "metadata": {},
   "outputs": [
    {
     "output_type": "execute_result",
     "data": {
      "text/plain": [
       "KP       0.664384\n",
       "QP       0.180773\n",
       "Flank    0.154843\n",
       "Name: first_move, dtype: float64"
      ]
     },
     "metadata": {},
     "execution_count": 115
    }
   ],
   "source": [
    "df[df[\"white_rating\"]<=1500][\"first_move\"].value_counts(normalize=True)"
   ]
  },
  {
   "cell_type": "code",
   "execution_count": 121,
   "metadata": {},
   "outputs": [
    {
     "output_type": "execute_result",
     "data": {
      "text/plain": [
       "KP       0.587514\n",
       "QP       0.298216\n",
       "Flank    0.114270\n",
       "Name: first_move, dtype: float64"
      ]
     },
     "metadata": {},
     "execution_count": 121
    }
   ],
   "source": [
    "df[df[\"white_rating\"]>2000][\"first_move\"].value_counts(normalize=True)"
   ]
  },
  {
   "cell_type": "code",
   "execution_count": 122,
   "metadata": {},
   "outputs": [
    {
     "output_type": "execute_result",
     "data": {
      "text/plain": [
       "KP       0.603239\n",
       "QP       0.210526\n",
       "Flank    0.186235\n",
       "Name: first_move, dtype: float64"
      ]
     },
     "metadata": {},
     "execution_count": 122
    }
   ],
   "source": [
    "df[df[\"white_rating\"]<1000][\"first_move\"].value_counts(normalize=True)"
   ]
  },
  {
   "cell_type": "code",
   "execution_count": 123,
   "metadata": {},
   "outputs": [
    {
     "output_type": "execute_result",
     "data": {
      "text/plain": [
       "(array([ 180., 1082., 2888., 5418., 4562., 3323., 1665.,  750.,  150.,\n",
       "          40.]),\n",
       " array([ 784. ,  975.6, 1167.2, 1358.8, 1550.4, 1742. , 1933.6, 2125.2,\n",
       "        2316.8, 2508.4, 2700. ]),\n",
       " <BarContainer object of 10 artists>)"
      ]
     },
     "metadata": {},
     "execution_count": 123
    },
    {
     "output_type": "display_data",
     "data": {
      "text/plain": "<Figure size 432x288 with 1 Axes>",
      "image/svg+xml": "<?xml version=\"1.0\" encoding=\"utf-8\" standalone=\"no\"?>\n<!DOCTYPE svg PUBLIC \"-//W3C//DTD SVG 1.1//EN\"\n  \"http://www.w3.org/Graphics/SVG/1.1/DTD/svg11.dtd\">\n<!-- Created with matplotlib (https://matplotlib.org/) -->\n<svg height=\"248.518125pt\" version=\"1.1\" viewBox=\"0 0 387.099502 248.518125\" width=\"387.099502pt\" xmlns=\"http://www.w3.org/2000/svg\" xmlns:xlink=\"http://www.w3.org/1999/xlink\">\n <metadata>\n  <rdf:RDF xmlns:cc=\"http://creativecommons.org/ns#\" xmlns:dc=\"http://purl.org/dc/elements/1.1/\" xmlns:rdf=\"http://www.w3.org/1999/02/22-rdf-syntax-ns#\">\n   <cc:Work>\n    <dc:type rdf:resource=\"http://purl.org/dc/dcmitype/StillImage\"/>\n    <dc:date>2021-03-05T15:16:40.982063</dc:date>\n    <dc:format>image/svg+xml</dc:format>\n    <dc:creator>\n     <cc:Agent>\n      <dc:title>Matplotlib v3.3.4, https://matplotlib.org/</dc:title>\n     </cc:Agent>\n    </dc:creator>\n   </cc:Work>\n  </rdf:RDF>\n </metadata>\n <defs>\n  <style type=\"text/css\">*{stroke-linecap:butt;stroke-linejoin:round;}</style>\n </defs>\n <g id=\"figure_1\">\n  <g id=\"patch_1\">\n   <path d=\"M -0 248.518125 \nL 387.099502 248.518125 \nL 387.099502 0 \nL -0 0 \nz\n\" style=\"fill:none;\"/>\n  </g>\n  <g id=\"axes_1\">\n   <g id=\"patch_2\">\n    <path d=\"M 39.65 224.64 \nL 374.45 224.64 \nL 374.45 7.2 \nL 39.65 7.2 \nz\n\" style=\"fill:#ffffff;\"/>\n   </g>\n   <g id=\"patch_3\">\n    <path clip-path=\"url(#paf628e5721)\" d=\"M 54.868182 224.64 \nL 85.304545 224.64 \nL 85.304545 217.760076 \nL 54.868182 217.760076 \nz\n\" style=\"fill:#1f77b4;\"/>\n   </g>\n   <g id=\"patch_4\">\n    <path clip-path=\"url(#paf628e5721)\" d=\"M 85.304545 224.64 \nL 115.740909 224.64 \nL 115.740909 183.284012 \nL 85.304545 183.284012 \nz\n\" style=\"fill:#1f77b4;\"/>\n   </g>\n   <g id=\"patch_5\">\n    <path clip-path=\"url(#paf628e5721)\" d=\"M 115.740909 224.64 \nL 146.177273 224.64 \nL 146.177273 114.255441 \nL 115.740909 114.255441 \nz\n\" style=\"fill:#1f77b4;\"/>\n   </g>\n   <g id=\"patch_6\">\n    <path clip-path=\"url(#paf628e5721)\" d=\"M 146.177273 224.64 \nL 176.613636 224.64 \nL 176.613636 17.554286 \nL 146.177273 17.554286 \nz\n\" style=\"fill:#1f77b4;\"/>\n   </g>\n   <g id=\"patch_7\">\n    <path clip-path=\"url(#paf628e5721)\" d=\"M 176.613636 224.64 \nL 207.05 224.64 \nL 207.05 50.272147 \nL 176.613636 50.272147 \nz\n\" style=\"fill:#1f77b4;\"/>\n   </g>\n   <g id=\"patch_8\">\n    <path clip-path=\"url(#paf628e5721)\" d=\"M 207.05 224.64 \nL 237.486364 224.64 \nL 237.486364 97.628957 \nL 207.05 97.628957 \nz\n\" style=\"fill:#1f77b4;\"/>\n   </g>\n   <g id=\"patch_9\">\n    <path clip-path=\"url(#paf628e5721)\" d=\"M 237.486364 224.64 \nL 267.922727 224.64 \nL 267.922727 161.000702 \nL 237.486364 161.000702 \nz\n\" style=\"fill:#1f77b4;\"/>\n   </g>\n   <g id=\"patch_10\">\n    <path clip-path=\"url(#paf628e5721)\" d=\"M 267.922727 224.64 \nL 298.359091 224.64 \nL 298.359091 195.97365 \nL 267.922727 195.97365 \nz\n\" style=\"fill:#1f77b4;\"/>\n   </g>\n   <g id=\"patch_11\">\n    <path clip-path=\"url(#paf628e5721)\" d=\"M 298.359091 224.64 \nL 328.795455 224.64 \nL 328.795455 218.90673 \nL 298.359091 218.90673 \nz\n\" style=\"fill:#1f77b4;\"/>\n   </g>\n   <g id=\"patch_12\">\n    <path clip-path=\"url(#paf628e5721)\" d=\"M 328.795455 224.64 \nL 359.231818 224.64 \nL 359.231818 223.111128 \nL 328.795455 223.111128 \nz\n\" style=\"fill:#1f77b4;\"/>\n   </g>\n   <g id=\"matplotlib.axis_1\">\n    <g id=\"xtick_1\">\n     <g id=\"line2d_1\">\n      <defs>\n       <path d=\"M 0 0 \nL 0 3.5 \n\" id=\"m1a8b45c72e\" style=\"stroke:#000000;stroke-width:0.8;\"/>\n      </defs>\n      <g>\n       <use style=\"stroke:#000000;stroke-width:0.8;\" x=\"49.467157\" xlink:href=\"#m1a8b45c72e\" y=\"224.64\"/>\n      </g>\n     </g>\n     <g id=\"text_1\">\n      <!-- 750 -->\n      <g transform=\"translate(39.923407 239.238437)scale(0.1 -0.1)\">\n       <defs>\n        <path d=\"M 8.203125 72.90625 \nL 55.078125 72.90625 \nL 55.078125 68.703125 \nL 28.609375 0 \nL 18.3125 0 \nL 43.21875 64.59375 \nL 8.203125 64.59375 \nz\n\" id=\"DejaVuSans-55\"/>\n        <path d=\"M 10.796875 72.90625 \nL 49.515625 72.90625 \nL 49.515625 64.59375 \nL 19.828125 64.59375 \nL 19.828125 46.734375 \nQ 21.96875 47.46875 24.109375 47.828125 \nQ 26.265625 48.1875 28.421875 48.1875 \nQ 40.625 48.1875 47.75 41.5 \nQ 54.890625 34.8125 54.890625 23.390625 \nQ 54.890625 11.625 47.5625 5.09375 \nQ 40.234375 -1.421875 26.90625 -1.421875 \nQ 22.3125 -1.421875 17.546875 -0.640625 \nQ 12.796875 0.140625 7.71875 1.703125 \nL 7.71875 11.625 \nQ 12.109375 9.234375 16.796875 8.0625 \nQ 21.484375 6.890625 26.703125 6.890625 \nQ 35.15625 6.890625 40.078125 11.328125 \nQ 45.015625 15.765625 45.015625 23.390625 \nQ 45.015625 31 40.078125 35.4375 \nQ 35.15625 39.890625 26.703125 39.890625 \nQ 22.75 39.890625 18.8125 39.015625 \nQ 14.890625 38.140625 10.796875 36.28125 \nz\n\" id=\"DejaVuSans-53\"/>\n        <path d=\"M 31.78125 66.40625 \nQ 24.171875 66.40625 20.328125 58.90625 \nQ 16.5 51.421875 16.5 36.375 \nQ 16.5 21.390625 20.328125 13.890625 \nQ 24.171875 6.390625 31.78125 6.390625 \nQ 39.453125 6.390625 43.28125 13.890625 \nQ 47.125 21.390625 47.125 36.375 \nQ 47.125 51.421875 43.28125 58.90625 \nQ 39.453125 66.40625 31.78125 66.40625 \nz\nM 31.78125 74.21875 \nQ 44.046875 74.21875 50.515625 64.515625 \nQ 56.984375 54.828125 56.984375 36.375 \nQ 56.984375 17.96875 50.515625 8.265625 \nQ 44.046875 -1.421875 31.78125 -1.421875 \nQ 19.53125 -1.421875 13.0625 8.265625 \nQ 6.59375 17.96875 6.59375 36.375 \nQ 6.59375 54.828125 13.0625 64.515625 \nQ 19.53125 74.21875 31.78125 74.21875 \nz\n\" id=\"DejaVuSans-48\"/>\n       </defs>\n       <use xlink:href=\"#DejaVuSans-55\"/>\n       <use x=\"63.623047\" xlink:href=\"#DejaVuSans-53\"/>\n       <use x=\"127.246094\" xlink:href=\"#DejaVuSans-48\"/>\n      </g>\n     </g>\n    </g>\n    <g id=\"xtick_2\">\n     <g id=\"line2d_2\">\n      <g>\n       <use style=\"stroke:#000000;stroke-width:0.8;\" x=\"89.180575\" xlink:href=\"#m1a8b45c72e\" y=\"224.64\"/>\n      </g>\n     </g>\n     <g id=\"text_2\">\n      <!-- 1000 -->\n      <g transform=\"translate(76.455575 239.238437)scale(0.1 -0.1)\">\n       <defs>\n        <path d=\"M 12.40625 8.296875 \nL 28.515625 8.296875 \nL 28.515625 63.921875 \nL 10.984375 60.40625 \nL 10.984375 69.390625 \nL 28.421875 72.90625 \nL 38.28125 72.90625 \nL 38.28125 8.296875 \nL 54.390625 8.296875 \nL 54.390625 0 \nL 12.40625 0 \nz\n\" id=\"DejaVuSans-49\"/>\n       </defs>\n       <use xlink:href=\"#DejaVuSans-49\"/>\n       <use x=\"63.623047\" xlink:href=\"#DejaVuSans-48\"/>\n       <use x=\"127.246094\" xlink:href=\"#DejaVuSans-48\"/>\n       <use x=\"190.869141\" xlink:href=\"#DejaVuSans-48\"/>\n      </g>\n     </g>\n    </g>\n    <g id=\"xtick_3\">\n     <g id=\"line2d_3\">\n      <g>\n       <use style=\"stroke:#000000;stroke-width:0.8;\" x=\"128.893993\" xlink:href=\"#m1a8b45c72e\" y=\"224.64\"/>\n      </g>\n     </g>\n     <g id=\"text_3\">\n      <!-- 1250 -->\n      <g transform=\"translate(116.168993 239.238437)scale(0.1 -0.1)\">\n       <defs>\n        <path d=\"M 19.1875 8.296875 \nL 53.609375 8.296875 \nL 53.609375 0 \nL 7.328125 0 \nL 7.328125 8.296875 \nQ 12.9375 14.109375 22.625 23.890625 \nQ 32.328125 33.6875 34.8125 36.53125 \nQ 39.546875 41.84375 41.421875 45.53125 \nQ 43.3125 49.21875 43.3125 52.78125 \nQ 43.3125 58.59375 39.234375 62.25 \nQ 35.15625 65.921875 28.609375 65.921875 \nQ 23.96875 65.921875 18.8125 64.3125 \nQ 13.671875 62.703125 7.8125 59.421875 \nL 7.8125 69.390625 \nQ 13.765625 71.78125 18.9375 73 \nQ 24.125 74.21875 28.421875 74.21875 \nQ 39.75 74.21875 46.484375 68.546875 \nQ 53.21875 62.890625 53.21875 53.421875 \nQ 53.21875 48.921875 51.53125 44.890625 \nQ 49.859375 40.875 45.40625 35.40625 \nQ 44.1875 33.984375 37.640625 27.21875 \nQ 31.109375 20.453125 19.1875 8.296875 \nz\n\" id=\"DejaVuSans-50\"/>\n       </defs>\n       <use xlink:href=\"#DejaVuSans-49\"/>\n       <use x=\"63.623047\" xlink:href=\"#DejaVuSans-50\"/>\n       <use x=\"127.246094\" xlink:href=\"#DejaVuSans-53\"/>\n       <use x=\"190.869141\" xlink:href=\"#DejaVuSans-48\"/>\n      </g>\n     </g>\n    </g>\n    <g id=\"xtick_4\">\n     <g id=\"line2d_4\">\n      <g>\n       <use style=\"stroke:#000000;stroke-width:0.8;\" x=\"168.607411\" xlink:href=\"#m1a8b45c72e\" y=\"224.64\"/>\n      </g>\n     </g>\n     <g id=\"text_4\">\n      <!-- 1500 -->\n      <g transform=\"translate(155.882411 239.238437)scale(0.1 -0.1)\">\n       <use xlink:href=\"#DejaVuSans-49\"/>\n       <use x=\"63.623047\" xlink:href=\"#DejaVuSans-53\"/>\n       <use x=\"127.246094\" xlink:href=\"#DejaVuSans-48\"/>\n       <use x=\"190.869141\" xlink:href=\"#DejaVuSans-48\"/>\n      </g>\n     </g>\n    </g>\n    <g id=\"xtick_5\">\n     <g id=\"line2d_5\">\n      <g>\n       <use style=\"stroke:#000000;stroke-width:0.8;\" x=\"208.320829\" xlink:href=\"#m1a8b45c72e\" y=\"224.64\"/>\n      </g>\n     </g>\n     <g id=\"text_5\">\n      <!-- 1750 -->\n      <g transform=\"translate(195.595829 239.238437)scale(0.1 -0.1)\">\n       <use xlink:href=\"#DejaVuSans-49\"/>\n       <use x=\"63.623047\" xlink:href=\"#DejaVuSans-55\"/>\n       <use x=\"127.246094\" xlink:href=\"#DejaVuSans-53\"/>\n       <use x=\"190.869141\" xlink:href=\"#DejaVuSans-48\"/>\n      </g>\n     </g>\n    </g>\n    <g id=\"xtick_6\">\n     <g id=\"line2d_6\">\n      <g>\n       <use style=\"stroke:#000000;stroke-width:0.8;\" x=\"248.034247\" xlink:href=\"#m1a8b45c72e\" y=\"224.64\"/>\n      </g>\n     </g>\n     <g id=\"text_6\">\n      <!-- 2000 -->\n      <g transform=\"translate(235.309247 239.238437)scale(0.1 -0.1)\">\n       <use xlink:href=\"#DejaVuSans-50\"/>\n       <use x=\"63.623047\" xlink:href=\"#DejaVuSans-48\"/>\n       <use x=\"127.246094\" xlink:href=\"#DejaVuSans-48\"/>\n       <use x=\"190.869141\" xlink:href=\"#DejaVuSans-48\"/>\n      </g>\n     </g>\n    </g>\n    <g id=\"xtick_7\">\n     <g id=\"line2d_7\">\n      <g>\n       <use style=\"stroke:#000000;stroke-width:0.8;\" x=\"287.747666\" xlink:href=\"#m1a8b45c72e\" y=\"224.64\"/>\n      </g>\n     </g>\n     <g id=\"text_7\">\n      <!-- 2250 -->\n      <g transform=\"translate(275.022666 239.238437)scale(0.1 -0.1)\">\n       <use xlink:href=\"#DejaVuSans-50\"/>\n       <use x=\"63.623047\" xlink:href=\"#DejaVuSans-50\"/>\n       <use x=\"127.246094\" xlink:href=\"#DejaVuSans-53\"/>\n       <use x=\"190.869141\" xlink:href=\"#DejaVuSans-48\"/>\n      </g>\n     </g>\n    </g>\n    <g id=\"xtick_8\">\n     <g id=\"line2d_8\">\n      <g>\n       <use style=\"stroke:#000000;stroke-width:0.8;\" x=\"327.461084\" xlink:href=\"#m1a8b45c72e\" y=\"224.64\"/>\n      </g>\n     </g>\n     <g id=\"text_8\">\n      <!-- 2500 -->\n      <g transform=\"translate(314.736084 239.238437)scale(0.1 -0.1)\">\n       <use xlink:href=\"#DejaVuSans-50\"/>\n       <use x=\"63.623047\" xlink:href=\"#DejaVuSans-53\"/>\n       <use x=\"127.246094\" xlink:href=\"#DejaVuSans-48\"/>\n       <use x=\"190.869141\" xlink:href=\"#DejaVuSans-48\"/>\n      </g>\n     </g>\n    </g>\n    <g id=\"xtick_9\">\n     <g id=\"line2d_9\">\n      <g>\n       <use style=\"stroke:#000000;stroke-width:0.8;\" x=\"367.174502\" xlink:href=\"#m1a8b45c72e\" y=\"224.64\"/>\n      </g>\n     </g>\n     <g id=\"text_9\">\n      <!-- 2750 -->\n      <g transform=\"translate(354.449502 239.238437)scale(0.1 -0.1)\">\n       <use xlink:href=\"#DejaVuSans-50\"/>\n       <use x=\"63.623047\" xlink:href=\"#DejaVuSans-55\"/>\n       <use x=\"127.246094\" xlink:href=\"#DejaVuSans-53\"/>\n       <use x=\"190.869141\" xlink:href=\"#DejaVuSans-48\"/>\n      </g>\n     </g>\n    </g>\n   </g>\n   <g id=\"matplotlib.axis_2\">\n    <g id=\"ytick_1\">\n     <g id=\"line2d_10\">\n      <defs>\n       <path d=\"M 0 0 \nL -3.5 0 \n\" id=\"m880618149b\" style=\"stroke:#000000;stroke-width:0.8;\"/>\n      </defs>\n      <g>\n       <use style=\"stroke:#000000;stroke-width:0.8;\" x=\"39.65\" xlink:href=\"#m880618149b\" y=\"224.64\"/>\n      </g>\n     </g>\n     <g id=\"text_10\">\n      <!-- 0 -->\n      <g transform=\"translate(26.2875 228.439219)scale(0.1 -0.1)\">\n       <use xlink:href=\"#DejaVuSans-48\"/>\n      </g>\n     </g>\n    </g>\n    <g id=\"ytick_2\">\n     <g id=\"line2d_11\">\n      <g>\n       <use style=\"stroke:#000000;stroke-width:0.8;\" x=\"39.65\" xlink:href=\"#m880618149b\" y=\"186.4182\"/>\n      </g>\n     </g>\n     <g id=\"text_11\">\n      <!-- 1000 -->\n      <g transform=\"translate(7.2 190.217418)scale(0.1 -0.1)\">\n       <use xlink:href=\"#DejaVuSans-49\"/>\n       <use x=\"63.623047\" xlink:href=\"#DejaVuSans-48\"/>\n       <use x=\"127.246094\" xlink:href=\"#DejaVuSans-48\"/>\n       <use x=\"190.869141\" xlink:href=\"#DejaVuSans-48\"/>\n      </g>\n     </g>\n    </g>\n    <g id=\"ytick_3\">\n     <g id=\"line2d_12\">\n      <g>\n       <use style=\"stroke:#000000;stroke-width:0.8;\" x=\"39.65\" xlink:href=\"#m880618149b\" y=\"148.196399\"/>\n      </g>\n     </g>\n     <g id=\"text_12\">\n      <!-- 2000 -->\n      <g transform=\"translate(7.2 151.995618)scale(0.1 -0.1)\">\n       <use xlink:href=\"#DejaVuSans-50\"/>\n       <use x=\"63.623047\" xlink:href=\"#DejaVuSans-48\"/>\n       <use x=\"127.246094\" xlink:href=\"#DejaVuSans-48\"/>\n       <use x=\"190.869141\" xlink:href=\"#DejaVuSans-48\"/>\n      </g>\n     </g>\n    </g>\n    <g id=\"ytick_4\">\n     <g id=\"line2d_13\">\n      <g>\n       <use style=\"stroke:#000000;stroke-width:0.8;\" x=\"39.65\" xlink:href=\"#m880618149b\" y=\"109.974599\"/>\n      </g>\n     </g>\n     <g id=\"text_13\">\n      <!-- 3000 -->\n      <g transform=\"translate(7.2 113.773818)scale(0.1 -0.1)\">\n       <defs>\n        <path d=\"M 40.578125 39.3125 \nQ 47.65625 37.796875 51.625 33 \nQ 55.609375 28.21875 55.609375 21.1875 \nQ 55.609375 10.40625 48.1875 4.484375 \nQ 40.765625 -1.421875 27.09375 -1.421875 \nQ 22.515625 -1.421875 17.65625 -0.515625 \nQ 12.796875 0.390625 7.625 2.203125 \nL 7.625 11.71875 \nQ 11.71875 9.328125 16.59375 8.109375 \nQ 21.484375 6.890625 26.8125 6.890625 \nQ 36.078125 6.890625 40.9375 10.546875 \nQ 45.796875 14.203125 45.796875 21.1875 \nQ 45.796875 27.640625 41.28125 31.265625 \nQ 36.765625 34.90625 28.71875 34.90625 \nL 20.21875 34.90625 \nL 20.21875 43.015625 \nL 29.109375 43.015625 \nQ 36.375 43.015625 40.234375 45.921875 \nQ 44.09375 48.828125 44.09375 54.296875 \nQ 44.09375 59.90625 40.109375 62.90625 \nQ 36.140625 65.921875 28.71875 65.921875 \nQ 24.65625 65.921875 20.015625 65.03125 \nQ 15.375 64.15625 9.8125 62.3125 \nL 9.8125 71.09375 \nQ 15.4375 72.65625 20.34375 73.4375 \nQ 25.25 74.21875 29.59375 74.21875 \nQ 40.828125 74.21875 47.359375 69.109375 \nQ 53.90625 64.015625 53.90625 55.328125 \nQ 53.90625 49.265625 50.4375 45.09375 \nQ 46.96875 40.921875 40.578125 39.3125 \nz\n\" id=\"DejaVuSans-51\"/>\n       </defs>\n       <use xlink:href=\"#DejaVuSans-51\"/>\n       <use x=\"63.623047\" xlink:href=\"#DejaVuSans-48\"/>\n       <use x=\"127.246094\" xlink:href=\"#DejaVuSans-48\"/>\n       <use x=\"190.869141\" xlink:href=\"#DejaVuSans-48\"/>\n      </g>\n     </g>\n    </g>\n    <g id=\"ytick_5\">\n     <g id=\"line2d_14\">\n      <g>\n       <use style=\"stroke:#000000;stroke-width:0.8;\" x=\"39.65\" xlink:href=\"#m880618149b\" y=\"71.752799\"/>\n      </g>\n     </g>\n     <g id=\"text_14\">\n      <!-- 4000 -->\n      <g transform=\"translate(7.2 75.552017)scale(0.1 -0.1)\">\n       <defs>\n        <path d=\"M 37.796875 64.3125 \nL 12.890625 25.390625 \nL 37.796875 25.390625 \nz\nM 35.203125 72.90625 \nL 47.609375 72.90625 \nL 47.609375 25.390625 \nL 58.015625 25.390625 \nL 58.015625 17.1875 \nL 47.609375 17.1875 \nL 47.609375 0 \nL 37.796875 0 \nL 37.796875 17.1875 \nL 4.890625 17.1875 \nL 4.890625 26.703125 \nz\n\" id=\"DejaVuSans-52\"/>\n       </defs>\n       <use xlink:href=\"#DejaVuSans-52\"/>\n       <use x=\"63.623047\" xlink:href=\"#DejaVuSans-48\"/>\n       <use x=\"127.246094\" xlink:href=\"#DejaVuSans-48\"/>\n       <use x=\"190.869141\" xlink:href=\"#DejaVuSans-48\"/>\n      </g>\n     </g>\n    </g>\n    <g id=\"ytick_6\">\n     <g id=\"line2d_15\">\n      <g>\n       <use style=\"stroke:#000000;stroke-width:0.8;\" x=\"39.65\" xlink:href=\"#m880618149b\" y=\"33.530998\"/>\n      </g>\n     </g>\n     <g id=\"text_15\">\n      <!-- 5000 -->\n      <g transform=\"translate(7.2 37.330217)scale(0.1 -0.1)\">\n       <use xlink:href=\"#DejaVuSans-53\"/>\n       <use x=\"63.623047\" xlink:href=\"#DejaVuSans-48\"/>\n       <use x=\"127.246094\" xlink:href=\"#DejaVuSans-48\"/>\n       <use x=\"190.869141\" xlink:href=\"#DejaVuSans-48\"/>\n      </g>\n     </g>\n    </g>\n   </g>\n   <g id=\"patch_13\">\n    <path d=\"M 39.65 224.64 \nL 39.65 7.2 \n\" style=\"fill:none;stroke:#000000;stroke-linecap:square;stroke-linejoin:miter;stroke-width:0.8;\"/>\n   </g>\n   <g id=\"patch_14\">\n    <path d=\"M 374.45 224.64 \nL 374.45 7.2 \n\" style=\"fill:none;stroke:#000000;stroke-linecap:square;stroke-linejoin:miter;stroke-width:0.8;\"/>\n   </g>\n   <g id=\"patch_15\">\n    <path d=\"M 39.65 224.64 \nL 374.45 224.64 \n\" style=\"fill:none;stroke:#000000;stroke-linecap:square;stroke-linejoin:miter;stroke-width:0.8;\"/>\n   </g>\n   <g id=\"patch_16\">\n    <path d=\"M 39.65 7.2 \nL 374.45 7.2 \n\" style=\"fill:none;stroke:#000000;stroke-linecap:square;stroke-linejoin:miter;stroke-width:0.8;\"/>\n   </g>\n  </g>\n </g>\n <defs>\n  <clipPath id=\"paf628e5721\">\n   <rect height=\"217.44\" width=\"334.8\" x=\"39.65\" y=\"7.2\"/>\n  </clipPath>\n </defs>\n</svg>\n",
      "image/png": "[encoded data removed]"
     },
     "metadata": {
      "needs_background": "light"
     }
    }
   ],
   "source": [
    "plt.hist(df[\"white_rating\"])"
   ]
  },
  {
   "cell_type": "code",
   "execution_count": 168,
   "metadata": {},
   "outputs": [
    {
     "output_type": "execute_result",
     "data": {
      "text/plain": [
       "winner\n",
       "white     0.498604\n",
       "black     0.454033\n",
       "draw      0.047363\n",
       "dtype: float64"
      ]
     },
     "metadata": {},
     "execution_count": 168
    }
   ],
   "source": [
    "#Who wins more: black or white?\n",
    "df[[\"winner\"]].value_counts(normalize=True)"
   ]
  },
  {
   "cell_type": "code",
   "execution_count": 171,
   "metadata": {},
   "outputs": [
    {
     "output_type": "execute_result",
     "data": {
      "text/plain": [
       "winner\n",
       "black     0.501104\n",
       "white     0.457774\n",
       "draw      0.041122\n",
       "dtype: float64"
      ]
     },
     "metadata": {},
     "execution_count": 171
    }
   ],
   "source": [
    "#Who wins more in lower elos: black or white?\n",
    "df[df[\"white_rating\"]<=1600][[\"winner\"]].value_counts(normalize=True)"
   ]
  },
  {
   "cell_type": "code",
   "execution_count": 172,
   "metadata": {},
   "outputs": [
    {
     "output_type": "execute_result",
     "data": {
      "text/plain": [
       "winner\n",
       "white     0.546909\n",
       "black     0.398346\n",
       "draw      0.054745\n",
       "dtype: float64"
      ]
     },
     "metadata": {},
     "execution_count": 172
    }
   ],
   "source": [
    "#Who wins more in higher elos: black or white?\n",
    "df[df[\"white_rating\"]>1600][[\"winner\"]].value_counts(normalize=True)"
   ]
  },
  {
   "cell_type": "code",
   "execution_count": 131,
   "metadata": {},
   "outputs": [
    {
     "output_type": "execute_result",
     "data": {
      "text/plain": [
       "first_move  winner\n",
       "KP          white     0.506591\n",
       "            black     0.448279\n",
       "            draw      0.045130\n",
       "dtype: float64"
      ]
     },
     "metadata": {},
     "execution_count": 131
    }
   ],
   "source": [
    "#what is the winningest first move?\n",
    "df[df[\"first_move\"]==\"KP\"][[\"first_move\",\"winner\"]].value_counts(normalize=True)"
   ]
  },
  {
   "cell_type": "code",
   "execution_count": 132,
   "metadata": {},
   "outputs": [
    {
     "output_type": "execute_result",
     "data": {
      "text/plain": [
       "first_move  winner\n",
       "QP          white     0.493103\n",
       "            black     0.457974\n",
       "            draw      0.048922\n",
       "dtype: float64"
      ]
     },
     "metadata": {},
     "execution_count": 132
    }
   ],
   "source": [
    "df[df[\"first_move\"]==\"QP\"][[\"first_move\",\"winner\"]].value_counts(normalize=True)"
   ]
  },
  {
   "cell_type": "code",
   "execution_count": 133,
   "metadata": {},
   "outputs": [
    {
     "output_type": "execute_result",
     "data": {
      "text/plain": [
       "first_move  winner\n",
       "Flank       black     0.476209\n",
       "            white     0.467883\n",
       "            draw      0.055908\n",
       "dtype: float64"
      ]
     },
     "metadata": {},
     "execution_count": 133
    }
   ],
   "source": [
    "df[df[\"first_move\"]==\"Flank\"][[\"first_move\",\"winner\"]].value_counts(normalize=True)"
   ]
  },
  {
   "cell_type": "code",
   "execution_count": 155,
   "metadata": {},
   "outputs": [
    {
     "output_type": "execute_result",
     "data": {
      "text/plain": [
       "first_move  winner\n",
       "KP          black     0.486650\n",
       "            white     0.471786\n",
       "            draw      0.041563\n",
       "dtype: float64"
      ]
     },
     "metadata": {},
     "execution_count": 155
    }
   ],
   "source": [
    "#what about in lower elos?\n",
    "df[df[\"first_move\"]==\"KP\"][df[\"white_rating\"]<1600][[\"first_move\",\"winner\"]].value_counts(normalize=True)"
   ]
  },
  {
   "cell_type": "code",
   "execution_count": 153,
   "metadata": {},
   "outputs": [
    {
     "output_type": "execute_result",
     "data": {
      "text/plain": [
       "first_move  winner\n",
       "QP          black     0.517848\n",
       "            white     0.444988\n",
       "            draw      0.037164\n",
       "dtype: float64"
      ]
     },
     "metadata": {},
     "execution_count": 153
    }
   ],
   "source": [
    "df[df[\"first_move\"]==\"QP\"][df[\"white_rating\"]<1600][[\"first_move\",\"winner\"]].value_counts(normalize=True)"
   ]
  },
  {
   "cell_type": "code",
   "execution_count": 156,
   "metadata": {},
   "outputs": [
    {
     "output_type": "execute_result",
     "data": {
      "text/plain": [
       "first_move  winner\n",
       "Flank       black     0.546230\n",
       "            white     0.408525\n",
       "            draw      0.045246\n",
       "dtype: float64"
      ]
     },
     "metadata": {},
     "execution_count": 156
    }
   ],
   "source": [
    "df[df[\"first_move\"]==\"Flank\"][df[\"white_rating\"]<1600][[\"first_move\",\"winner\"]].value_counts(normalize=True)"
   ]
  },
  {
   "cell_type": "code",
   "execution_count": 162,
   "metadata": {},
   "outputs": [
    {
     "output_type": "execute_result",
     "data": {
      "text/plain": [
       "winner\n",
       "black     0.500923\n",
       "white     0.457826\n",
       "draw      0.041251\n",
       "dtype: float64"
      ]
     },
     "metadata": {},
     "execution_count": 162
    }
   ],
   "source": []
  },
  {
   "cell_type": "code",
   "execution_count": 167,
   "metadata": {},
   "outputs": [
    {
     "output_type": "execute_result",
     "data": {
      "text/plain": [
       "7.799880346993718"
      ]
     },
     "metadata": {},
     "execution_count": 167
    }
   ],
   "source": [
    "(df[\"white_rating\"]-df[\"black_rating\"]).mean() #shouldn't this be 0?"
   ]
  },
  {
   "cell_type": "code",
   "execution_count": 176,
   "metadata": {},
   "outputs": [
    {
     "output_type": "execute_result",
     "data": {
      "text/plain": [
       "3.5988238935314145"
      ]
     },
     "metadata": {},
     "execution_count": 176
    }
   ],
   "source": [
    "rated_df = df[df[\"rated\"] == True]\n",
    "(rated_df[\"white_rating\"]-rated_df[\"black_rating\"]).mean() "
   ]
  },
  {
   "cell_type": "code",
   "execution_count": 177,
   "metadata": {},
   "outputs": [
    {
     "output_type": "execute_result",
     "data": {
      "text/plain": [
       "(16155, 18)"
      ]
     },
     "metadata": {},
     "execution_count": 177
    }
   ],
   "source": [
    "rated_df.shape"
   ]
  },
  {
   "cell_type": "code",
   "execution_count": 178,
   "metadata": {},
   "outputs": [
    {
     "output_type": "execute_result",
     "data": {
      "text/plain": [
       "(20058, 18)"
      ]
     },
     "metadata": {},
     "execution_count": 178
    }
   ],
   "source": [
    "df.shape"
   ]
  },
  {
   "cell_type": "code",
   "execution_count": 180,
   "metadata": {},
   "outputs": [
    {
     "output_type": "execute_result",
     "data": {
      "text/plain": [
       "count    20058.000000\n",
       "mean         4.816981\n",
       "std          2.797152\n",
       "min          1.000000\n",
       "25%          3.000000\n",
       "50%          4.000000\n",
       "75%          6.000000\n",
       "max         28.000000\n",
       "Name: opening_ply, dtype: float64"
      ]
     },
     "metadata": {},
     "execution_count": 180
    }
   ],
   "source": [
    "df.opening_ply.describe()"
   ]
  },
  {
   "cell_type": "code",
   "execution_count": 181,
   "metadata": {},
   "outputs": [
    {
     "output_type": "execute_result",
     "data": {
      "text/plain": [
       "count    10836.000000\n",
       "mean         4.244647\n",
       "std          2.344419\n",
       "min          1.000000\n",
       "25%          3.000000\n",
       "50%          4.000000\n",
       "75%          6.000000\n",
       "max         28.000000\n",
       "Name: opening_ply, dtype: float64"
      ]
     },
     "metadata": {},
     "execution_count": 181
    }
   ],
   "source": [
    "df[df[\"white_rating\"]<1600].opening_ply.describe()"
   ]
  },
  {
   "cell_type": "code",
   "execution_count": 182,
   "metadata": {},
   "outputs": [
    {
     "output_type": "execute_result",
     "data": {
      "text/plain": [
       "count    9188.000000\n",
       "mean        5.490966\n",
       "std         3.118994\n",
       "min         1.000000\n",
       "25%         3.000000\n",
       "50%         5.000000\n",
       "75%         7.000000\n",
       "max        28.000000\n",
       "Name: opening_ply, dtype: float64"
      ]
     },
     "metadata": {},
     "execution_count": 182
    }
   ],
   "source": [
    "df[df[\"white_rating\"]>1600].opening_ply.describe() #higher elo = know more theory"
   ]
  },
  {
   "cell_type": "code",
   "execution_count": 189,
   "metadata": {},
   "outputs": [
    {
     "output_type": "execute_result",
     "data": {
      "text/plain": [
       "resign       0.499738\n",
       "mate         0.382146\n",
       "outoftime    0.078884\n",
       "draw         0.039232\n",
       "Name: victory_status, dtype: float64"
      ]
     },
     "metadata": {},
     "execution_count": 189
    }
   ],
   "source": [
    "#are there more checkmates in lower elos?\n",
    "df[df[\"white_rating\"]<1550].victory_status.value_counts(normalize=True) "
   ]
  },
  {
   "cell_type": "code",
   "execution_count": null,
   "metadata": {},
   "outputs": [],
   "source": []
  },
  {
   "cell_type": "code",
   "execution_count": 188,
   "metadata": {},
   "outputs": [
    {
     "output_type": "execute_result",
     "data": {
      "text/plain": [
       "resign       0.606578\n",
       "mate         0.254528\n",
       "outoftime    0.088179\n",
       "draw         0.050715\n",
       "Name: victory_status, dtype: float64"
      ]
     },
     "metadata": {},
     "execution_count": 188
    }
   ],
   "source": [
    "#are there more checkmates in lower elos?\n",
    "df[df[\"white_rating\"]>1550].victory_status.value_counts(normalize=True) "
   ]
  },
  {
   "cell_type": "code",
   "execution_count": 192,
   "metadata": {},
   "outputs": [
    {
     "output_type": "execute_result",
     "data": {
      "text/plain": [
       "10+0     0.384934\n",
       "15+0     0.065360\n",
       "15+15    0.042377\n",
       "5+5      0.036793\n",
       "5+8      0.034749\n",
       "8+0      0.029315\n",
       "10+5     0.028866\n",
       "15+10    0.022983\n",
       "20+0     0.022335\n",
       "30+0     0.018696\n",
       "Name: increment_code, dtype: float64"
      ]
     },
     "metadata": {},
     "execution_count": 192
    }
   ],
   "source": [
    "df.increment_code.value_counts(normalize=True).head(10)"
   ]
  },
  {
   "cell_type": "code",
   "execution_count": 194,
   "metadata": {},
   "outputs": [
    {
     "output_type": "execute_result",
     "data": {
      "text/plain": [
       "(16155, 18)"
      ]
     },
     "metadata": {},
     "execution_count": 194
    }
   ],
   "source": [
    "df[df[\"rated\"]==True].shape\n"
   ]
  }
 ],
 "metadata": {
  "kernelspec": {
   "display_name": "Python 3",
   "language": "python",
   "name": "python3"
  },
  "language_info": {
   "codemirror_mode": {
    "name": "ipython",
    "version": 3
   },
   "file_extension": ".py",
   "mimetype": "text/x-python",
   "name": "python",
   "nbconvert_exporter": "python",
   "pygments_lexer": "ipython3",
   "version": "3.7.6-final"
  }
 },
 "nbformat": 4,
 "nbformat_minor": 5
}